{
 "cells": [
  {
   "cell_type": "code",
   "execution_count": 19,
   "metadata": {},
   "outputs": [],
   "source": [
    "from utils import load_json\n",
    "\n",
    "data = load_json('submission.jsonl')"
   ]
  },
  {
   "cell_type": "code",
   "execution_count": 20,
   "metadata": {},
   "outputs": [
    {
     "name": "stdout",
     "output_type": "stream",
     "text": [
      "{'id': 13926, 'predicted_label': 'supports', 'predicted_evidence': []}\n",
      "{'id': 526, 'predicted_label': 'supports', 'predicted_evidence': []}\n",
      "{'id': 17223, 'predicted_label': 'refutes', 'predicted_evidence': []}\n"
     ]
    }
   ],
   "source": [
    "# data predicted_evidence is 0 change this label\n",
    "for item in data:\n",
    "    if item['predicted_label'] == 'NOT ENOUGH INFO':\n",
    "        continue\n",
    "    length = len(item['predicted_evidence'])\n",
    "    if length == 0:\n",
    "        print(item)\n",
    "        item['predicted_label'] = 'NOT ENOUGH INFO'\n"
   ]
  },
  {
   "cell_type": "code",
   "execution_count": 22,
   "metadata": {},
   "outputs": [],
   "source": [
    "# save this json \n",
    "import pandas as pd \n",
    "\n",
    "df = pd.DataFrame(data)\n",
    "df.to_json('submission_del.jsonl', orient='records', lines=True, force_ascii=False)"
   ]
  },
  {
   "cell_type": "code",
   "execution_count": 14,
   "metadata": {},
   "outputs": [
    {
     "name": "stdout",
     "output_type": "stream",
     "text": [
      "{'id': 13926, 'predicted_label': 'supports', 'predicted_evidence': []}\n",
      "{'id': 526, 'predicted_label': 'supports', 'predicted_evidence': []}\n",
      "{'id': 17223, 'predicted_label': 'refutes', 'predicted_evidence': []}\n"
     ]
    }
   ],
   "source": [
    "maxlens = 0\n",
    "for i in data:\n",
    "    if i['predicted_label'] == 'NOT ENOUGH INFO':\n",
    "        continue\n",
    "    lens = len(i['predicted_evidence'])\n",
    "    maxlens = max(maxlens, lens)\n",
    "    if lens == 0:\n",
    "        print(i)\n",
    "        continue\n",
    "    # if lens > 1:\n",
    "    #     pass\n",
    "        # print(lens, len(i['predicted_evidence'][0]))"
   ]
  },
  {
   "cell_type": "code",
   "execution_count": 12,
   "metadata": {},
   "outputs": [
    {
     "data": {
      "text/plain": [
       "5"
      ]
     },
     "execution_count": 12,
     "metadata": {},
     "output_type": "execute_result"
    }
   ],
   "source": [
    "maxlens"
   ]
  },
  {
   "cell_type": "code",
   "execution_count": null,
   "metadata": {},
   "outputs": [],
   "source": []
  }
 ],
 "metadata": {
  "kernelspec": {
   "display_name": ".venv",
   "language": "python",
   "name": "python3"
  },
  "language_info": {
   "codemirror_mode": {
    "name": "ipython",
    "version": 3
   },
   "file_extension": ".py",
   "mimetype": "text/x-python",
   "name": "python",
   "nbconvert_exporter": "python",
   "pygments_lexer": "ipython3",
   "version": "3.11.2"
  },
  "orig_nbformat": 4
 },
 "nbformat": 4,
 "nbformat_minor": 2
}
